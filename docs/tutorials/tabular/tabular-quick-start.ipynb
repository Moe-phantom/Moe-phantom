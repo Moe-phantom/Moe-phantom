{
  "cells": [
    {
      "cell_type": "markdown",
      "metadata": {
        "id": "ciXk3uLceiAu"
      },
      "source": [
        "# AutoGluon Tabular - Quick Start\n",
        "\n",
        "[![Open In Colab](https://colab.research.google.com/assets/colab-badge.svg)](https://colab.research.google.com/github/autogluon/autogluon/blob/stable/docs/tutorials/tabular/tabular-quick-start.ipynb)\n",
        "[![Open In SageMaker Studio Lab](https://studiolab.sagemaker.aws/studiolab.svg)](https://studiolab.sagemaker.aws/import/github/autogluon/autogluon/blob/stable/docs/tutorials/tabular/tabular-quick-start.ipynb)\n",
        "\n",
        "In this tutorial, we will see how to use AutoGluon's `TabularPredictor` to predict the values of a target column based on the other columns in a tabular dataset.\n",
        "\n",
        "Begin by making sure AutoGluon is installed, and then import AutoGluon's `TabularDataset` and `TabularPredictor`. We will use the former to load data and the latter to train models and make predictions."
      ],
      "id": "ciXk3uLceiAu"
    },
    {
      "cell_type": "code",
      "execution_count": null,
      "metadata": {
        "tags": [
          "hide-output"
        ],
        "id": "kpX9uA_QeiAy",
        "outputId": "aca6cd6f-5d36-4e05-d20f-466d0b6ee92c",
        "colab": {
          "base_uri": "https://localhost:8080/"
        }
      },
      "outputs": [
        {
          "output_type": "stream",
          "name": "stdout",
          "text": [
            "Requirement already satisfied: pip in /usr/local/lib/python3.10/dist-packages (23.1.2)\n",
            "Collecting pip\n",
            "  Downloading pip-24.0-py3-none-any.whl (2.1 MB)\n",
            "\u001b[2K     \u001b[90m━━━━━━━━━━━━━━━━━━━━━━━━━━━━━━━━━━━━━━━━\u001b[0m \u001b[32m2.1/2.1 MB\u001b[0m \u001b[31m15.0 MB/s\u001b[0m eta \u001b[36m0:00:00\u001b[0m\n",
            "\u001b[?25hInstalling collected packages: pip\n",
            "  Attempting uninstall: pip\n",
            "    Found existing installation: pip 23.1.2\n",
            "    Uninstalling pip-23.1.2:\n",
            "      Successfully uninstalled pip-23.1.2\n",
            "Successfully installed pip-24.0\n"
          ]
        }
      ],
      "source": [
        "!python -m pip install --upgrade pip\n",
        "!python -m pip install autogluon"
      ],
      "id": "kpX9uA_QeiAy"
    },
    {
      "cell_type": "code",
      "execution_count": null,
      "metadata": {
        "id": "NfTufzm4eiAz"
      },
      "outputs": [],
      "source": [
        "from autogluon.tabular import TabularDataset, TabularPredictor"
      ],
      "id": "NfTufzm4eiAz"
    },
    {
      "cell_type": "markdown",
      "metadata": {
        "id": "NaXqjvTfeiA0"
      },
      "source": [
        "## Example Data"
      ],
      "id": "NaXqjvTfeiA0"
    },
    {
      "cell_type": "markdown",
      "metadata": {
        "id": "FL8IwENkeiA0"
      },
      "source": [
        "For this tutorial we will use a dataset from the cover story of [Nature issue 7887](https://www.nature.com/nature/volumes/600/issues/7887): [AI-guided intuition for math theorems](https://www.nature.com/articles/s41586-021-04086-x.pdf). The goal is to predict a knot's signature based on its properties. We sampled 10K training and 5K test examples from the [original data](https://github.com/deepmind/mathematics_conjectures/blob/main/knot_theory.ipynb). The sampled dataset make this tutorial run quickly, but AutoGluon can handle the full dataset if desired.\n",
        "\n",
        "We load this dataset directly from a URL. AutoGluon's `TabularDataset` is a subclass of pandas [DataFrame](https://pandas.pydata.org/docs/reference/api/pandas.DataFrame.html), so any `DataFrame` methods can be used on `TabularDataset` as well."
      ],
      "id": "FL8IwENkeiA0"
    },
    {
      "cell_type": "code",
      "execution_count": null,
      "metadata": {
        "id": "b9o619z9eiA1"
      },
      "outputs": [],
      "source": [
        "data_url = 'https://raw.githubusercontent.com/mli/ag-docs/main/knot_theory/'\n",
        "train_data = TabularDataset(f'{data_url}train.csv')\n",
        "train_data.head()"
      ],
      "id": "b9o619z9eiA1"
    },
    {
      "cell_type": "markdown",
      "metadata": {
        "id": "J5H39WhReiA2"
      },
      "source": [
        "Our targets are stored in the \"signature\" column, which has 18 unique integers. Even though pandas didn't correctly recognize this data type as categorical, AutoGluon will fix this issue.\n"
      ],
      "id": "J5H39WhReiA2"
    },
    {
      "cell_type": "code",
      "execution_count": null,
      "metadata": {
        "id": "bQf1CzMXeiA2"
      },
      "outputs": [],
      "source": [
        "label = 'signature'\n",
        "train_data[label].describe()"
      ],
      "id": "bQf1CzMXeiA2"
    },
    {
      "cell_type": "markdown",
      "metadata": {
        "id": "ApqvufiUeiA3"
      },
      "source": [
        "## Training\n",
        "\n",
        "We now construct a `TabularPredictor` by specifying the label column name and then train on the dataset with `TabularPredictor.fit()`. We don't need to specify any other parameters. AutoGluon will recognize this is a multi-class classification task, perform automatic feature engineering, train multiple models, and then ensemble the models to create the final predictor."
      ],
      "id": "ApqvufiUeiA3"
    },
    {
      "cell_type": "code",
      "execution_count": null,
      "metadata": {
        "tags": [
          "hide-output"
        ],
        "id": "hQj_06ZXeiA3"
      },
      "outputs": [],
      "source": [
        "predictor = TabularPredictor(label=label).fit(train_data)"
      ],
      "id": "hQj_06ZXeiA3"
    },
    {
      "cell_type": "markdown",
      "metadata": {
        "id": "icq5Z9vAeiA5"
      },
      "source": [
        "Model fitting should take a few minutes or less depending on your CPU. You can make training faster by specifying the `time_limit` argument. For example, `fit(..., time_limit=60)` will stop training after 60 seconds. Higher time limits will generally result in better prediction performance, and excessively low time limits will prevent AutoGluon from training and ensembling a reasonable set of models.\n",
        "\n"
      ],
      "id": "icq5Z9vAeiA5"
    },
    {
      "cell_type": "markdown",
      "metadata": {
        "id": "r3hvsA1xeiA5"
      },
      "source": [
        "## Prediction\n",
        "\n",
        "Once we have a predictor that is fit on the training dataset, we can load a separate set of data to use for prediction and evaulation."
      ],
      "id": "r3hvsA1xeiA5"
    },
    {
      "cell_type": "code",
      "execution_count": null,
      "metadata": {
        "id": "5io0nCEBeiA6"
      },
      "outputs": [],
      "source": [
        "test_data = TabularDataset(f'{data_url}test.csv')\n",
        "\n",
        "y_pred = predictor.predict(test_data.drop(columns=[label]))\n",
        "y_pred.head()"
      ],
      "id": "5io0nCEBeiA6"
    },
    {
      "cell_type": "markdown",
      "metadata": {
        "id": "KitIx8YLeiA6"
      },
      "source": [
        "## Evaluation\n",
        "\n",
        "We can evaluate the predictor on the test dataset using the `evaluate()` function, which measures how well our predictor performs on data that was not used for fitting the models."
      ],
      "id": "KitIx8YLeiA6"
    },
    {
      "cell_type": "code",
      "execution_count": null,
      "metadata": {
        "id": "KvdQqFkDeiA6"
      },
      "outputs": [],
      "source": [
        "predictor.evaluate(test_data, silent=True)"
      ],
      "id": "KvdQqFkDeiA6"
    },
    {
      "cell_type": "markdown",
      "metadata": {
        "id": "-VI7kr-JeiA6"
      },
      "source": [
        "AutoGluon's `TabularPredictor` also provides the `leaderboard()` function, which allows us to evaluate the performance of each individual trained model on the test data."
      ],
      "id": "-VI7kr-JeiA6"
    },
    {
      "cell_type": "code",
      "execution_count": null,
      "metadata": {
        "id": "KPnNn2KbeiA7"
      },
      "outputs": [],
      "source": [
        "predictor.leaderboard(test_data)"
      ],
      "id": "KPnNn2KbeiA7"
    },
    {
      "cell_type": "markdown",
      "metadata": {
        "id": "I-da0PXvpD96"
      },
      "source": [
        "## Conclusion\n",
        "\n",
        "In this quickstart tutorial we saw AutoGluon's basic fit and predict functionality using `TabularDataset` and `TabularPredictor`. AutoGluon simplifies the model training process by not requiring feature engineering or model hyperparameter tuning. Check out the in-depth tutorials to learn more about AutoGluon's other features like customizing the training and prediction steps or extending AutoGluon with custom feature generators, models, or metrics."
      ],
      "id": "I-da0PXvpD96"
    }
  ],
  "metadata": {
    "language_info": {
      "name": "python"
    },
    "colab": {
      "provenance": []
    },
    "kernelspec": {
      "name": "python3",
      "display_name": "Python 3"
    }
  },
  "nbformat": 4,
  "nbformat_minor": 5
}