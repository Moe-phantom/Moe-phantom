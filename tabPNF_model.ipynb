{
  "nbformat": 4,
  "nbformat_minor": 0,
  "metadata": {
    "colab": {
      "provenance": [],
      "authorship_tag": "ABX9TyOhWu0q83DgyNv/d1N3fXPI",
      "include_colab_link": true
    },
    "kernelspec": {
      "name": "python3",
      "display_name": "Python 3"
    },
    "language_info": {
      "name": "python"
    },
    "widgets": {
      "application/vnd.jupyter.widget-state+json": {
        "c4616756200549af82baff0708014710": {
          "model_module": "@jupyter-widgets/controls",
          "model_name": "HBoxModel",
          "model_module_version": "1.5.0",
          "state": {
            "_dom_classes": [],
            "_model_module": "@jupyter-widgets/controls",
            "_model_module_version": "1.5.0",
            "_model_name": "HBoxModel",
            "_view_count": null,
            "_view_module": "@jupyter-widgets/controls",
            "_view_module_version": "1.5.0",
            "_view_name": "HBoxView",
            "box_style": "",
            "children": [
              "IPY_MODEL_ab59e700280943c69e862a464a324dbc",
              "IPY_MODEL_2e589489cc8a451492a670b7c4556e55",
              "IPY_MODEL_646cd3269d534206aa94c8c093e6498d"
            ],
            "layout": "IPY_MODEL_4f0a6de95b5d450490fc161534377a7a"
          }
        },
        "ab59e700280943c69e862a464a324dbc": {
          "model_module": "@jupyter-widgets/controls",
          "model_name": "HTMLModel",
          "model_module_version": "1.5.0",
          "state": {
            "_dom_classes": [],
            "_model_module": "@jupyter-widgets/controls",
            "_model_module_version": "1.5.0",
            "_model_name": "HTMLModel",
            "_view_count": null,
            "_view_module": "@jupyter-widgets/controls",
            "_view_module_version": "1.5.0",
            "_view_name": "HTMLView",
            "description": "",
            "description_tooltip": null,
            "layout": "IPY_MODEL_ad3f7bdda16c4b97a5b7a7d5805401d8",
            "placeholder": "​",
            "style": "IPY_MODEL_efcfdffe109148058834087226586817",
            "value": "tabpfn-v2-classifier-finetuned-zk73skhh.(…): 100%"
          }
        },
        "2e589489cc8a451492a670b7c4556e55": {
          "model_module": "@jupyter-widgets/controls",
          "model_name": "FloatProgressModel",
          "model_module_version": "1.5.0",
          "state": {
            "_dom_classes": [],
            "_model_module": "@jupyter-widgets/controls",
            "_model_module_version": "1.5.0",
            "_model_name": "FloatProgressModel",
            "_view_count": null,
            "_view_module": "@jupyter-widgets/controls",
            "_view_module_version": "1.5.0",
            "_view_name": "ProgressView",
            "bar_style": "success",
            "description": "",
            "description_tooltip": null,
            "layout": "IPY_MODEL_adfc09cb8841476cb5f064ddf48ef4dc",
            "max": 29009539,
            "min": 0,
            "orientation": "horizontal",
            "style": "IPY_MODEL_a6bfb80cd4814b7ab8a862672c0cdd5e",
            "value": 29009539
          }
        },
        "646cd3269d534206aa94c8c093e6498d": {
          "model_module": "@jupyter-widgets/controls",
          "model_name": "HTMLModel",
          "model_module_version": "1.5.0",
          "state": {
            "_dom_classes": [],
            "_model_module": "@jupyter-widgets/controls",
            "_model_module_version": "1.5.0",
            "_model_name": "HTMLModel",
            "_view_count": null,
            "_view_module": "@jupyter-widgets/controls",
            "_view_module_version": "1.5.0",
            "_view_name": "HTMLView",
            "description": "",
            "description_tooltip": null,
            "layout": "IPY_MODEL_e4aa723d5a86430da70624776feb7483",
            "placeholder": "​",
            "style": "IPY_MODEL_06bc6047e9964e98b712a651b1607c34",
            "value": " 29.0M/29.0M [00:00&lt;00:00, 36.9MB/s]"
          }
        },
        "4f0a6de95b5d450490fc161534377a7a": {
          "model_module": "@jupyter-widgets/base",
          "model_name": "LayoutModel",
          "model_module_version": "1.2.0",
          "state": {
            "_model_module": "@jupyter-widgets/base",
            "_model_module_version": "1.2.0",
            "_model_name": "LayoutModel",
            "_view_count": null,
            "_view_module": "@jupyter-widgets/base",
            "_view_module_version": "1.2.0",
            "_view_name": "LayoutView",
            "align_content": null,
            "align_items": null,
            "align_self": null,
            "border": null,
            "bottom": null,
            "display": null,
            "flex": null,
            "flex_flow": null,
            "grid_area": null,
            "grid_auto_columns": null,
            "grid_auto_flow": null,
            "grid_auto_rows": null,
            "grid_column": null,
            "grid_gap": null,
            "grid_row": null,
            "grid_template_areas": null,
            "grid_template_columns": null,
            "grid_template_rows": null,
            "height": null,
            "justify_content": null,
            "justify_items": null,
            "left": null,
            "margin": null,
            "max_height": null,
            "max_width": null,
            "min_height": null,
            "min_width": null,
            "object_fit": null,
            "object_position": null,
            "order": null,
            "overflow": null,
            "overflow_x": null,
            "overflow_y": null,
            "padding": null,
            "right": null,
            "top": null,
            "visibility": null,
            "width": null
          }
        },
        "ad3f7bdda16c4b97a5b7a7d5805401d8": {
          "model_module": "@jupyter-widgets/base",
          "model_name": "LayoutModel",
          "model_module_version": "1.2.0",
          "state": {
            "_model_module": "@jupyter-widgets/base",
            "_model_module_version": "1.2.0",
            "_model_name": "LayoutModel",
            "_view_count": null,
            "_view_module": "@jupyter-widgets/base",
            "_view_module_version": "1.2.0",
            "_view_name": "LayoutView",
            "align_content": null,
            "align_items": null,
            "align_self": null,
            "border": null,
            "bottom": null,
            "display": null,
            "flex": null,
            "flex_flow": null,
            "grid_area": null,
            "grid_auto_columns": null,
            "grid_auto_flow": null,
            "grid_auto_rows": null,
            "grid_column": null,
            "grid_gap": null,
            "grid_row": null,
            "grid_template_areas": null,
            "grid_template_columns": null,
            "grid_template_rows": null,
            "height": null,
            "justify_content": null,
            "justify_items": null,
            "left": null,
            "margin": null,
            "max_height": null,
            "max_width": null,
            "min_height": null,
            "min_width": null,
            "object_fit": null,
            "object_position": null,
            "order": null,
            "overflow": null,
            "overflow_x": null,
            "overflow_y": null,
            "padding": null,
            "right": null,
            "top": null,
            "visibility": null,
            "width": null
          }
        },
        "efcfdffe109148058834087226586817": {
          "model_module": "@jupyter-widgets/controls",
          "model_name": "DescriptionStyleModel",
          "model_module_version": "1.5.0",
          "state": {
            "_model_module": "@jupyter-widgets/controls",
            "_model_module_version": "1.5.0",
            "_model_name": "DescriptionStyleModel",
            "_view_count": null,
            "_view_module": "@jupyter-widgets/base",
            "_view_module_version": "1.2.0",
            "_view_name": "StyleView",
            "description_width": ""
          }
        },
        "adfc09cb8841476cb5f064ddf48ef4dc": {
          "model_module": "@jupyter-widgets/base",
          "model_name": "LayoutModel",
          "model_module_version": "1.2.0",
          "state": {
            "_model_module": "@jupyter-widgets/base",
            "_model_module_version": "1.2.0",
            "_model_name": "LayoutModel",
            "_view_count": null,
            "_view_module": "@jupyter-widgets/base",
            "_view_module_version": "1.2.0",
            "_view_name": "LayoutView",
            "align_content": null,
            "align_items": null,
            "align_self": null,
            "border": null,
            "bottom": null,
            "display": null,
            "flex": null,
            "flex_flow": null,
            "grid_area": null,
            "grid_auto_columns": null,
            "grid_auto_flow": null,
            "grid_auto_rows": null,
            "grid_column": null,
            "grid_gap": null,
            "grid_row": null,
            "grid_template_areas": null,
            "grid_template_columns": null,
            "grid_template_rows": null,
            "height": null,
            "justify_content": null,
            "justify_items": null,
            "left": null,
            "margin": null,
            "max_height": null,
            "max_width": null,
            "min_height": null,
            "min_width": null,
            "object_fit": null,
            "object_position": null,
            "order": null,
            "overflow": null,
            "overflow_x": null,
            "overflow_y": null,
            "padding": null,
            "right": null,
            "top": null,
            "visibility": null,
            "width": null
          }
        },
        "a6bfb80cd4814b7ab8a862672c0cdd5e": {
          "model_module": "@jupyter-widgets/controls",
          "model_name": "ProgressStyleModel",
          "model_module_version": "1.5.0",
          "state": {
            "_model_module": "@jupyter-widgets/controls",
            "_model_module_version": "1.5.0",
            "_model_name": "ProgressStyleModel",
            "_view_count": null,
            "_view_module": "@jupyter-widgets/base",
            "_view_module_version": "1.2.0",
            "_view_name": "StyleView",
            "bar_color": null,
            "description_width": ""
          }
        },
        "e4aa723d5a86430da70624776feb7483": {
          "model_module": "@jupyter-widgets/base",
          "model_name": "LayoutModel",
          "model_module_version": "1.2.0",
          "state": {
            "_model_module": "@jupyter-widgets/base",
            "_model_module_version": "1.2.0",
            "_model_name": "LayoutModel",
            "_view_count": null,
            "_view_module": "@jupyter-widgets/base",
            "_view_module_version": "1.2.0",
            "_view_name": "LayoutView",
            "align_content": null,
            "align_items": null,
            "align_self": null,
            "border": null,
            "bottom": null,
            "display": null,
            "flex": null,
            "flex_flow": null,
            "grid_area": null,
            "grid_auto_columns": null,
            "grid_auto_flow": null,
            "grid_auto_rows": null,
            "grid_column": null,
            "grid_gap": null,
            "grid_row": null,
            "grid_template_areas": null,
            "grid_template_columns": null,
            "grid_template_rows": null,
            "height": null,
            "justify_content": null,
            "justify_items": null,
            "left": null,
            "margin": null,
            "max_height": null,
            "max_width": null,
            "min_height": null,
            "min_width": null,
            "object_fit": null,
            "object_position": null,
            "order": null,
            "overflow": null,
            "overflow_x": null,
            "overflow_y": null,
            "padding": null,
            "right": null,
            "top": null,
            "visibility": null,
            "width": null
          }
        },
        "06bc6047e9964e98b712a651b1607c34": {
          "model_module": "@jupyter-widgets/controls",
          "model_name": "DescriptionStyleModel",
          "model_module_version": "1.5.0",
          "state": {
            "_model_module": "@jupyter-widgets/controls",
            "_model_module_version": "1.5.0",
            "_model_name": "DescriptionStyleModel",
            "_view_count": null,
            "_view_module": "@jupyter-widgets/base",
            "_view_module_version": "1.2.0",
            "_view_name": "StyleView",
            "description_width": ""
          }
        },
        "43b8d17742a047cbb459ee8be80aad6c": {
          "model_module": "@jupyter-widgets/controls",
          "model_name": "HBoxModel",
          "model_module_version": "1.5.0",
          "state": {
            "_dom_classes": [],
            "_model_module": "@jupyter-widgets/controls",
            "_model_module_version": "1.5.0",
            "_model_name": "HBoxModel",
            "_view_count": null,
            "_view_module": "@jupyter-widgets/controls",
            "_view_module_version": "1.5.0",
            "_view_name": "HBoxView",
            "box_style": "",
            "children": [
              "IPY_MODEL_0b56dc4bd6cd4c289e4731d9e6b4d216",
              "IPY_MODEL_aa8000dc75c149719c19b3ff67e3a2ce",
              "IPY_MODEL_ff4969536d9b4fd78a0ce047bdffcf85"
            ],
            "layout": "IPY_MODEL_76b6e6e7a13e47689fdba92a991c3801"
          }
        },
        "0b56dc4bd6cd4c289e4731d9e6b4d216": {
          "model_module": "@jupyter-widgets/controls",
          "model_name": "HTMLModel",
          "model_module_version": "1.5.0",
          "state": {
            "_dom_classes": [],
            "_model_module": "@jupyter-widgets/controls",
            "_model_module_version": "1.5.0",
            "_model_name": "HTMLModel",
            "_view_count": null,
            "_view_module": "@jupyter-widgets/controls",
            "_view_module_version": "1.5.0",
            "_view_name": "HTMLView",
            "description": "",
            "description_tooltip": null,
            "layout": "IPY_MODEL_1c06dbdb13204801b8928571e48b9fbd",
            "placeholder": "​",
            "style": "IPY_MODEL_2738c31139c446d4ad840a6b5a7945ae",
            "value": "config.json: 100%"
          }
        },
        "aa8000dc75c149719c19b3ff67e3a2ce": {
          "model_module": "@jupyter-widgets/controls",
          "model_name": "FloatProgressModel",
          "model_module_version": "1.5.0",
          "state": {
            "_dom_classes": [],
            "_model_module": "@jupyter-widgets/controls",
            "_model_module_version": "1.5.0",
            "_model_name": "FloatProgressModel",
            "_view_count": null,
            "_view_module": "@jupyter-widgets/controls",
            "_view_module_version": "1.5.0",
            "_view_name": "ProgressView",
            "bar_style": "success",
            "description": "",
            "description_tooltip": null,
            "layout": "IPY_MODEL_2fff52ea583d4abfa43e5925ff00f245",
            "max": 37,
            "min": 0,
            "orientation": "horizontal",
            "style": "IPY_MODEL_a9660d952189478ea570198146b7219c",
            "value": 37
          }
        },
        "ff4969536d9b4fd78a0ce047bdffcf85": {
          "model_module": "@jupyter-widgets/controls",
          "model_name": "HTMLModel",
          "model_module_version": "1.5.0",
          "state": {
            "_dom_classes": [],
            "_model_module": "@jupyter-widgets/controls",
            "_model_module_version": "1.5.0",
            "_model_name": "HTMLModel",
            "_view_count": null,
            "_view_module": "@jupyter-widgets/controls",
            "_view_module_version": "1.5.0",
            "_view_name": "HTMLView",
            "description": "",
            "description_tooltip": null,
            "layout": "IPY_MODEL_24471e7d046f4ba1a651bd52157e09d1",
            "placeholder": "​",
            "style": "IPY_MODEL_ebcfc5a8785d442bbe567ec525ecdd93",
            "value": " 37.0/37.0 [00:00&lt;00:00, 4.42kB/s]"
          }
        },
        "76b6e6e7a13e47689fdba92a991c3801": {
          "model_module": "@jupyter-widgets/base",
          "model_name": "LayoutModel",
          "model_module_version": "1.2.0",
          "state": {
            "_model_module": "@jupyter-widgets/base",
            "_model_module_version": "1.2.0",
            "_model_name": "LayoutModel",
            "_view_count": null,
            "_view_module": "@jupyter-widgets/base",
            "_view_module_version": "1.2.0",
            "_view_name": "LayoutView",
            "align_content": null,
            "align_items": null,
            "align_self": null,
            "border": null,
            "bottom": null,
            "display": null,
            "flex": null,
            "flex_flow": null,
            "grid_area": null,
            "grid_auto_columns": null,
            "grid_auto_flow": null,
            "grid_auto_rows": null,
            "grid_column": null,
            "grid_gap": null,
            "grid_row": null,
            "grid_template_areas": null,
            "grid_template_columns": null,
            "grid_template_rows": null,
            "height": null,
            "justify_content": null,
            "justify_items": null,
            "left": null,
            "margin": null,
            "max_height": null,
            "max_width": null,
            "min_height": null,
            "min_width": null,
            "object_fit": null,
            "object_position": null,
            "order": null,
            "overflow": null,
            "overflow_x": null,
            "overflow_y": null,
            "padding": null,
            "right": null,
            "top": null,
            "visibility": null,
            "width": null
          }
        },
        "1c06dbdb13204801b8928571e48b9fbd": {
          "model_module": "@jupyter-widgets/base",
          "model_name": "LayoutModel",
          "model_module_version": "1.2.0",
          "state": {
            "_model_module": "@jupyter-widgets/base",
            "_model_module_version": "1.2.0",
            "_model_name": "LayoutModel",
            "_view_count": null,
            "_view_module": "@jupyter-widgets/base",
            "_view_module_version": "1.2.0",
            "_view_name": "LayoutView",
            "align_content": null,
            "align_items": null,
            "align_self": null,
            "border": null,
            "bottom": null,
            "display": null,
            "flex": null,
            "flex_flow": null,
            "grid_area": null,
            "grid_auto_columns": null,
            "grid_auto_flow": null,
            "grid_auto_rows": null,
            "grid_column": null,
            "grid_gap": null,
            "grid_row": null,
            "grid_template_areas": null,
            "grid_template_columns": null,
            "grid_template_rows": null,
            "height": null,
            "justify_content": null,
            "justify_items": null,
            "left": null,
            "margin": null,
            "max_height": null,
            "max_width": null,
            "min_height": null,
            "min_width": null,
            "object_fit": null,
            "object_position": null,
            "order": null,
            "overflow": null,
            "overflow_x": null,
            "overflow_y": null,
            "padding": null,
            "right": null,
            "top": null,
            "visibility": null,
            "width": null
          }
        },
        "2738c31139c446d4ad840a6b5a7945ae": {
          "model_module": "@jupyter-widgets/controls",
          "model_name": "DescriptionStyleModel",
          "model_module_version": "1.5.0",
          "state": {
            "_model_module": "@jupyter-widgets/controls",
            "_model_module_version": "1.5.0",
            "_model_name": "DescriptionStyleModel",
            "_view_count": null,
            "_view_module": "@jupyter-widgets/base",
            "_view_module_version": "1.2.0",
            "_view_name": "StyleView",
            "description_width": ""
          }
        },
        "2fff52ea583d4abfa43e5925ff00f245": {
          "model_module": "@jupyter-widgets/base",
          "model_name": "LayoutModel",
          "model_module_version": "1.2.0",
          "state": {
            "_model_module": "@jupyter-widgets/base",
            "_model_module_version": "1.2.0",
            "_model_name": "LayoutModel",
            "_view_count": null,
            "_view_module": "@jupyter-widgets/base",
            "_view_module_version": "1.2.0",
            "_view_name": "LayoutView",
            "align_content": null,
            "align_items": null,
            "align_self": null,
            "border": null,
            "bottom": null,
            "display": null,
            "flex": null,
            "flex_flow": null,
            "grid_area": null,
            "grid_auto_columns": null,
            "grid_auto_flow": null,
            "grid_auto_rows": null,
            "grid_column": null,
            "grid_gap": null,
            "grid_row": null,
            "grid_template_areas": null,
            "grid_template_columns": null,
            "grid_template_rows": null,
            "height": null,
            "justify_content": null,
            "justify_items": null,
            "left": null,
            "margin": null,
            "max_height": null,
            "max_width": null,
            "min_height": null,
            "min_width": null,
            "object_fit": null,
            "object_position": null,
            "order": null,
            "overflow": null,
            "overflow_x": null,
            "overflow_y": null,
            "padding": null,
            "right": null,
            "top": null,
            "visibility": null,
            "width": null
          }
        },
        "a9660d952189478ea570198146b7219c": {
          "model_module": "@jupyter-widgets/controls",
          "model_name": "ProgressStyleModel",
          "model_module_version": "1.5.0",
          "state": {
            "_model_module": "@jupyter-widgets/controls",
            "_model_module_version": "1.5.0",
            "_model_name": "ProgressStyleModel",
            "_view_count": null,
            "_view_module": "@jupyter-widgets/base",
            "_view_module_version": "1.2.0",
            "_view_name": "StyleView",
            "bar_color": null,
            "description_width": ""
          }
        },
        "24471e7d046f4ba1a651bd52157e09d1": {
          "model_module": "@jupyter-widgets/base",
          "model_name": "LayoutModel",
          "model_module_version": "1.2.0",
          "state": {
            "_model_module": "@jupyter-widgets/base",
            "_model_module_version": "1.2.0",
            "_model_name": "LayoutModel",
            "_view_count": null,
            "_view_module": "@jupyter-widgets/base",
            "_view_module_version": "1.2.0",
            "_view_name": "LayoutView",
            "align_content": null,
            "align_items": null,
            "align_self": null,
            "border": null,
            "bottom": null,
            "display": null,
            "flex": null,
            "flex_flow": null,
            "grid_area": null,
            "grid_auto_columns": null,
            "grid_auto_flow": null,
            "grid_auto_rows": null,
            "grid_column": null,
            "grid_gap": null,
            "grid_row": null,
            "grid_template_areas": null,
            "grid_template_columns": null,
            "grid_template_rows": null,
            "height": null,
            "justify_content": null,
            "justify_items": null,
            "left": null,
            "margin": null,
            "max_height": null,
            "max_width": null,
            "min_height": null,
            "min_width": null,
            "object_fit": null,
            "object_position": null,
            "order": null,
            "overflow": null,
            "overflow_x": null,
            "overflow_y": null,
            "padding": null,
            "right": null,
            "top": null,
            "visibility": null,
            "width": null
          }
        },
        "ebcfc5a8785d442bbe567ec525ecdd93": {
          "model_module": "@jupyter-widgets/controls",
          "model_name": "DescriptionStyleModel",
          "model_module_version": "1.5.0",
          "state": {
            "_model_module": "@jupyter-widgets/controls",
            "_model_module_version": "1.5.0",
            "_model_name": "DescriptionStyleModel",
            "_view_count": null,
            "_view_module": "@jupyter-widgets/base",
            "_view_module_version": "1.2.0",
            "_view_name": "StyleView",
            "description_width": ""
          }
        }
      }
    }
  },
  "cells": [
    {
      "cell_type": "markdown",
      "metadata": {
        "id": "view-in-github",
        "colab_type": "text"
      },
      "source": [
        "<a href=\"https://colab.research.google.com/github/Moe-phantom/Moe-phantom/blob/main/tabPNF_model.ipynb\" target=\"_parent\"><img src=\"https://colab.research.google.com/assets/colab-badge.svg\" alt=\"Open In Colab\"/></a>"
      ]
    },
    {
      "cell_type": "code",
      "source": [
        "!pip install torch torchvision torchaudio --index-url https://download.pytorch.org/whl/cu121 -q\n",
        "!pip install tabpfn[gpu] --upgrade -q"
      ],
      "metadata": {
        "colab": {
          "base_uri": "https://localhost:8080/"
        },
        "id": "M6irPb_XI3Rv",
        "outputId": "29fcbd50-fecf-4918-b94c-1d471c688c64"
      },
      "execution_count": 1,
      "outputs": [
        {
          "output_type": "stream",
          "name": "stdout",
          "text": [
            "\u001b[33mWARNING: tabpfn 2.2.1 does not provide the extra 'gpu'\u001b[0m\u001b[33m\n",
            "\u001b[2K   \u001b[90m━━━━━━━━━━━━━━━━━━━━━━━━━━━━━━━━━━━━━━━━\u001b[0m \u001b[32m173.7/173.7 kB\u001b[0m \u001b[31m10.6 MB/s\u001b[0m eta \u001b[36m0:00:00\u001b[0m\n",
            "\u001b[2K   \u001b[90m━━━━━━━━━━━━━━━━━━━━━━━━━━━━━━━━━━━━━━━━\u001b[0m \u001b[32m137.3/137.3 kB\u001b[0m \u001b[31m14.4 MB/s\u001b[0m eta \u001b[36m0:00:00\u001b[0m\n",
            "\u001b[2K   \u001b[90m━━━━━━━━━━━━━━━━━━━━━━━━━━━━━━━━━━━━━━━━\u001b[0m \u001b[32m64.7/64.7 kB\u001b[0m \u001b[31m6.1 MB/s\u001b[0m eta \u001b[36m0:00:00\u001b[0m\n",
            "\u001b[?25h\u001b[31mERROR: pip's dependency resolver does not currently take into account all the packages that are installed. This behaviour is the source of the following dependency conflicts.\n",
            "google-colab 1.0.0 requires requests==2.32.4, but you have requests 2.32.5 which is incompatible.\u001b[0m\u001b[31m\n",
            "\u001b[0m"
          ]
        }
      ]
    },
    {
      "cell_type": "code",
      "execution_count": 2,
      "metadata": {
        "colab": {
          "base_uri": "https://localhost:8080/"
        },
        "id": "0kMZdGN0IxAk",
        "outputId": "ca3b4b5f-65fc-45ed-e0db-770ceeb87c7b"
      },
      "outputs": [
        {
          "output_type": "stream",
          "name": "stdout",
          "text": [
            "PyTorch version: 2.8.0+cu126\n",
            "CUDA available: True\n",
            "CUDA device: Tesla T4\n"
          ]
        }
      ],
      "source": [
        "\n",
        "# ==============================\n",
        "# Import after installation\n",
        "# ==============================\n",
        "import pandas as pd\n",
        "import numpy as np\n",
        "import matplotlib.pyplot as plt\n",
        "import seaborn as sns\n",
        "from sklearn.model_selection import train_test_split, StratifiedKFold\n",
        "from sklearn.preprocessing import LabelEncoder\n",
        "from sklearn.metrics import classification_report, confusion_matrix, accuracy_score, balanced_accuracy_score\n",
        "from sklearn.impute import SimpleImputer\n",
        "import warnings\n",
        "import pickle\n",
        "import os\n",
        "\n",
        "warnings.filterwarnings('ignore')\n",
        "\n",
        "# 🔥 CRITICAL: Import torch AFTER installation to check CUDA\n",
        "import torch\n",
        "print(f\"PyTorch version: {torch.__version__}\")\n",
        "print(f\"CUDA available: {torch.cuda.is_available()}\")\n",
        "if torch.cuda.is_available():\n",
        "    print(f\"CUDA device: {torch.cuda.get_device_name(0)}\")\n"
      ]
    },
    {
      "cell_type": "code",
      "source": [
        "# ==============================\n",
        "# Configuration\n",
        "# ==============================\n",
        "RANDOM_STATE = 42\n",
        "TEST_SIZE = 0.2\n",
        "MAX_TRAIN_SIZE = 1024  # TabPFN limit\n",
        "\n",
        "# ==============================\n",
        "# Load Data\n",
        "# ==============================\n",
        "csv_path = '/content/TOI_2025.09.28_05.51.22.csv'  # UPDATE THIS PATH\n",
        "if not os.path.exists(csv_path):\n",
        "    raise FileNotFoundError(f\"CSV file not found at {csv_path}. Please update the path.\")\n",
        "\n",
        "df = pd.read_csv(csv_path, comment='#')\n",
        "print(f\"Dataset shape: {df.shape}\")\n"
      ],
      "metadata": {
        "colab": {
          "base_uri": "https://localhost:8080/"
        },
        "id": "jUiZxBtbJERj",
        "outputId": "f9e05ad0-63a8-4242-e6a5-1f8857d1c38e"
      },
      "execution_count": 3,
      "outputs": [
        {
          "output_type": "stream",
          "name": "stdout",
          "text": [
            "Dataset shape: (7699, 27)\n"
          ]
        }
      ]
    },
    {
      "cell_type": "code",
      "source": [
        "# ==============================\n",
        "# Target & Features\n",
        "# ==============================\n",
        "target_col = 'tfopwg_disp'\n",
        "if target_col not in df.columns:\n",
        "    possible = [c for c in df.columns if 'disp' in c.lower() or 'class' in c.lower()]\n",
        "    raise ValueError(f\"Target '{target_col}' not found. Candidates: {possible}\")\n",
        "\n",
        "# Feature list\n",
        "feature_cols = [\n",
        "    'pl_orbper', 'pl_rade', 'pl_trandep', 'pl_trandur', 'st_tmag',\n",
        "    'st_rad', 'st_teff', 'st_logg', 'pl_insol', 'pl_eqt',\n",
        "    'pl_ratdor', 'pl_ratror'\n",
        "]\n",
        "snr_cols = [col for col in df.columns if 'snr' in col.lower()]\n",
        "feature_cols.extend(snr_cols)\n",
        "\n",
        "# Exclude unwanted\n",
        "exclude_patterns = ['ra', 'dec', 'tic', 'toi', 'comments', 'flag', 'url', 'date']\n",
        "available_features = [c for c in feature_cols if c in df.columns]\n",
        "features_to_use = [c for c in available_features\n",
        "                   if not any(p in c.lower() for p in exclude_patterns)]\n",
        "\n",
        "print(f\"Using {len(features_to_use)} features: {features_to_use}\")\n",
        "\n"
      ],
      "metadata": {
        "colab": {
          "base_uri": "https://localhost:8080/"
        },
        "id": "Bnj1sxB8JdU3",
        "outputId": "40978f2c-c7ff-4054-bb1e-e5f9ba7d8405"
      },
      "execution_count": 4,
      "outputs": [
        {
          "output_type": "stream",
          "name": "stdout",
          "text": [
            "Using 6 features: ['pl_orbper', 'st_tmag', 'st_teff', 'st_logg', 'pl_insol', 'pl_eqt']\n"
          ]
        }
      ]
    },
    {
      "cell_type": "code",
      "source": [
        "X = df[features_to_use].copy()\n",
        "y = df[target_col].copy()\n",
        "\n",
        "# Convert to numeric\n",
        "for col in X.columns:\n",
        "    X[col] = pd.to_numeric(X[col], errors='coerce')\n",
        "\n",
        "# Handle missing in pl_orbper\n",
        "if 'pl_orbper' in X.columns:\n",
        "    X['pl_orbper'].fillna(999, inplace=True)\n",
        "\n",
        "# Impute rest\n",
        "imputer = SimpleImputer(strategy='median')\n",
        "X_imputed = pd.DataFrame(imputer.fit_transform(X), columns=X.columns)\n",
        "\n",
        "# Remove missing targets\n",
        "mask = ~y.isnull()\n",
        "X_imputed = X_imputed[mask]\n",
        "y = y[mask]\n",
        "print(f\"Final dataset shape: {X_imputed.shape}\")\n",
        "\n",
        "# Encode target\n",
        "le = LabelEncoder()\n",
        "y_encoded = le.fit_transform(y)\n",
        "class_names = le.classes_\n",
        "print(f\"Classes: {class_names}\")\n",
        "\n",
        "# ="
      ],
      "metadata": {
        "colab": {
          "base_uri": "https://localhost:8080/"
        },
        "id": "GlPCr2_JJkSy",
        "outputId": "4ffe9c71-d3a3-4897-9ecc-b988efc340d7"
      },
      "execution_count": 5,
      "outputs": [
        {
          "output_type": "stream",
          "name": "stdout",
          "text": [
            "Final dataset shape: (7699, 6)\n",
            "Classes: ['APC' 'CP' 'FA' 'FP' 'KP' 'PC']\n"
          ]
        }
      ]
    },
    {
      "cell_type": "code",
      "source": [
        "# ==============================\n",
        "# GPU Setup for TabPFN\n",
        "# ==============================\n",
        "device = 'cuda' if torch.cuda.is_available() else 'cpu'\n",
        "print(f\"\\nUsing device: {device}\")\n",
        "\n",
        "# Import TabPFN AFTER torch is ready\n",
        "from tabpfn import TabPFNClassifier"
      ],
      "metadata": {
        "colab": {
          "base_uri": "https://localhost:8080/"
        },
        "id": "F_cAzvwFJzHC",
        "outputId": "0861a85e-4e60-4bc2-8e5e-8508673ff534"
      },
      "execution_count": 6,
      "outputs": [
        {
          "output_type": "stream",
          "name": "stdout",
          "text": [
            "\n",
            "Using device: cuda\n"
          ]
        }
      ]
    },
    {
      "cell_type": "code",
      "source": [
        "print(\"\\n\" + \"=\"*50)\n",
        "print(\"STRATEGY 1: 6-CLASS CLASSIFICATION\")\n",
        "print(\"=\"*50)\n",
        "\n",
        "X_train, X_test, y_train, y_test = train_test_split(\n",
        "    X_imputed, y_encoded, test_size=TEST_SIZE, random_state=RANDOM_STATE, stratify=y_encoded\n",
        ")\n",
        "\n",
        "# Subsample if needed\n",
        "if len(X_train) > MAX_TRAIN_SIZE:\n",
        "    idx = np.random.choice(len(X_train), MAX_TRAIN_SIZE, replace=False)\n",
        "    X_train_sub, y_train_sub = X_train.iloc[idx], y_train[idx]\n",
        "else:\n",
        "    X_train_sub, y_train_sub = X_train, y_train\n",
        "\n",
        "# Train TabPFN with GPU\n",
        "tabpfn = TabPFNClassifier(\n",
        "    device=device)\n",
        "print(\"Training TabPFN (6-class)...\")\n",
        "tabpfn.fit(X_train_sub.values, y_train_sub)  # Use .values for safety\n",
        "\n",
        "y_pred = tabpfn.predict(X_test.values)\n",
        "y_proba = tabpfn.predict_proba(X_test.values)\n",
        "\n",
        "accuracy = accuracy_score(y_test, y_pred)\n",
        "balanced_acc = balanced_accuracy_score(y_test, y_pred)\n",
        "\n",
        "print(f\"Accuracy: {accuracy:.3f}\")\n",
        "print(f\"Balanced Accuracy: {balanced_acc:.3f}\")\n",
        "print(\"\\nClassification Report:\")\n",
        "print(classification_report(y_test, y_pred, target_names=class_names, digits=3))\n"
      ],
      "metadata": {
        "colab": {
          "base_uri": "https://localhost:8080/",
          "height": 491,
          "referenced_widgets": [
            "c4616756200549af82baff0708014710",
            "ab59e700280943c69e862a464a324dbc",
            "2e589489cc8a451492a670b7c4556e55",
            "646cd3269d534206aa94c8c093e6498d",
            "4f0a6de95b5d450490fc161534377a7a",
            "ad3f7bdda16c4b97a5b7a7d5805401d8",
            "efcfdffe109148058834087226586817",
            "adfc09cb8841476cb5f064ddf48ef4dc",
            "a6bfb80cd4814b7ab8a862672c0cdd5e",
            "e4aa723d5a86430da70624776feb7483",
            "06bc6047e9964e98b712a651b1607c34",
            "43b8d17742a047cbb459ee8be80aad6c",
            "0b56dc4bd6cd4c289e4731d9e6b4d216",
            "aa8000dc75c149719c19b3ff67e3a2ce",
            "ff4969536d9b4fd78a0ce047bdffcf85",
            "76b6e6e7a13e47689fdba92a991c3801",
            "1c06dbdb13204801b8928571e48b9fbd",
            "2738c31139c446d4ad840a6b5a7945ae",
            "2fff52ea583d4abfa43e5925ff00f245",
            "a9660d952189478ea570198146b7219c",
            "24471e7d046f4ba1a651bd52157e09d1",
            "ebcfc5a8785d442bbe567ec525ecdd93"
          ]
        },
        "id": "ra-Evz6-J4lD",
        "outputId": "f698c668-ebe1-4cb4-e5d8-7d39634458d3"
      },
      "execution_count": 10,
      "outputs": [
        {
          "output_type": "stream",
          "name": "stdout",
          "text": [
            "\n",
            "==================================================\n",
            "STRATEGY 1: 6-CLASS CLASSIFICATION\n",
            "==================================================\n",
            "Training TabPFN (6-class)...\n"
          ]
        },
        {
          "output_type": "display_data",
          "data": {
            "text/plain": [
              "tabpfn-v2-classifier-finetuned-zk73skhh.(…):   0%|          | 0.00/29.0M [00:00<?, ?B/s]"
            ],
            "application/vnd.jupyter.widget-view+json": {
              "version_major": 2,
              "version_minor": 0,
              "model_id": "c4616756200549af82baff0708014710"
            }
          },
          "metadata": {}
        },
        {
          "output_type": "display_data",
          "data": {
            "text/plain": [
              "config.json:   0%|          | 0.00/37.0 [00:00<?, ?B/s]"
            ],
            "application/vnd.jupyter.widget-view+json": {
              "version_major": 2,
              "version_minor": 0,
              "model_id": "43b8d17742a047cbb459ee8be80aad6c"
            }
          },
          "metadata": {}
        },
        {
          "output_type": "stream",
          "name": "stdout",
          "text": [
            "Accuracy: 0.649\n",
            "Balanced Accuracy: 0.249\n",
            "\n",
            "Classification Report:\n",
            "              precision    recall  f1-score   support\n",
            "\n",
            "         APC      0.000     0.000     0.000        92\n",
            "          CP      0.581     0.182     0.278       137\n",
            "          FA      0.000     0.000     0.000        19\n",
            "          FP      0.544     0.364     0.436       239\n",
            "          KP      0.000     0.000     0.000       117\n",
            "          PC      0.664     0.949     0.781       936\n",
            "\n",
            "    accuracy                          0.649      1540\n",
            "   macro avg      0.298     0.249     0.249      1540\n",
            "weighted avg      0.540     0.649     0.567      1540\n",
            "\n"
          ]
        }
      ]
    },
    {
      "cell_type": "code",
      "source": [
        "# Confusion Matrix\n",
        "plt.figure(figsize=(10, 8))\n",
        "cm = confusion_matrix(y_test, y_pred)\n",
        "sns.heatmap(cm, annot=True, fmt='d', cmap='Blues', xticklabels=class_names, yticklabels=class_names)\n",
        "plt.title('Confusion Matrix - 6 Class')\n",
        "plt.ylabel('True Label')\n",
        "plt.xlabel('Predicted Label')\n",
        "plt.tight_layout()\n",
        "plt.show()\n"
      ],
      "metadata": {
        "colab": {
          "base_uri": "https://localhost:8080/",
          "height": 827
        },
        "id": "sVEQzcd1KGZz",
        "outputId": "4ee33e11-11c3-406e-a1bd-a3cea2fef570"
      },
      "execution_count": 11,
      "outputs": [
        {
          "output_type": "display_data",
          "data": {
            "text/plain": [
              "<Figure size 1000x800 with 2 Axes>"
            ],
            "image/png": "[encoded data removed]"
          },
          "metadata": {}
        }
      ]
    },
    {
      "cell_type": "code",
      "source": [
        "# Feature Importance\n",
        "from sklearn.inspection import permutation_importance\n",
        "perm_imp = permutation_importance(tabpfn, X_test.values, y_test, n_repeats=10, random_state=RANDOM_STATE)\n",
        "feat_imp_df = pd.DataFrame({\n",
        "    'feature': X_test.columns,\n",
        "    'importance': perm_imp.importances_mean,\n",
        "    'std': perm_imp.importances_std\n",
        "}).sort_values('importance', ascending=False)\n",
        "\n",
        "plt.figure(figsize=(10, 6))\n",
        "top10 = feat_imp_df.head(10)\n",
        "plt.barh(range(len(top10)), top10['importance'])\n",
        "plt.yticks(range(len(top10)), top10['feature'])\n",
        "plt.xlabel('Permutation Importance')\n",
        "plt.title('Top 10 Features')\n",
        "plt.tight_layout()\n",
        "plt.show()\n"
      ],
      "metadata": {
        "colab": {
          "base_uri": "https://localhost:8080/",
          "height": 627
        },
        "id": "3l2ZKTQ-LkUP",
        "outputId": "08fdea5a-11ee-45f7-9113-32d62ab2ac3d"
      },
      "execution_count": 12,
      "outputs": [
        {
          "output_type": "display_data",
          "data": {
            "text/plain": [
              "<Figure size 1000x600 with 1 Axes>"
            ],
            "image/png": "[encoded data removed]"
          },
          "metadata": {}
        }
      ]
    },
    {
      "cell_type": "code",
      "source": [
        "# ==============================\n",
        "# Strategy 2: Binary Classification\n",
        "# ==============================\n",
        "print(\"\\n\" + \"=\"*50)\n",
        "print(\"STRATEGY 2: BINARY CLASSIFICATION\")\n",
        "print(\"=\"*50)\n",
        "\n",
        "planet_classes = ['PC', 'APC', 'CP', 'KP']\n",
        "y_binary = y.isin(planet_classes).astype(int)\n",
        "\n",
        "X_train_b, X_test_b, y_train_b, y_test_b = train_test_split(\n",
        "    X_imputed, y_binary, test_size=TEST_SIZE, random_state=RANDOM_STATE, stratify=y_binary\n",
        ")\n",
        "\n",
        "if len(X_train_b) > MAX_TRAIN_SIZE:\n",
        "    idx = np.random.choice(len(X_train_b), MAX_TRAIN_SIZE, replace=False)\n",
        "    X_train_b_sub, y_train_b_sub = X_train_b.iloc[idx], y_train_b.iloc[idx]\n",
        "else:\n",
        "    X_train_b_sub, y_train_b_sub = X_train_b, y_train_b\n",
        "\n",
        "tabpfn_binary = TabPFNClassifier(device=device)\n",
        "print(\"Training binary TabPFN...\")\n",
        "tabpfn_binary.fit(X_train_b_sub.values, y_train_b_sub)\n",
        "\n",
        "y_pred_b = tabpfn_binary.predict(X_test_b.values)\n",
        "accuracy_b = accuracy_score(y_test_b, y_pred_b)\n",
        "balanced_acc_b = balanced_accuracy_score(y_test_b, y_pred_b)\n",
        "\n",
        "print(f\"Binary Accuracy: {accuracy_b:.3f}\")\n",
        "print(f\"Balanced Accuracy: {balanced_acc_b:.3f}\")\n"
      ],
      "metadata": {
        "colab": {
          "base_uri": "https://localhost:8080/"
        },
        "id": "T9Epo2jGLxl8",
        "outputId": "37dce6bd-0ff3-4c41-f8ed-d7341f3cbc18"
      },
      "execution_count": 14,
      "outputs": [
        {
          "output_type": "stream",
          "name": "stdout",
          "text": [
            "\n",
            "==================================================\n",
            "STRATEGY 2: BINARY CLASSIFICATION\n",
            "==================================================\n",
            "Training binary TabPFN...\n",
            "Binary Accuracy: 0.849\n",
            "Balanced Accuracy: 0.609\n"
          ]
        }
      ]
    },
    {
      "cell_type": "code",
      "source": [
        "# Binary Confusion Matrix\n",
        "plt.figure(figsize=(8, 6))\n",
        "cm_b = confusion_matrix(y_test_b, y_pred_b)\n",
        "sns.heatmap(cm_b, annot=True, fmt='d', cmap='Blues', xticklabels=['Non-Planet', 'Planet'], yticklabels=['Non-Planet', 'Planet'])\n",
        "plt.title('Confusion Matrix - Binary')\n",
        "plt.tight_layout()\n",
        "plt.show()\n"
      ],
      "metadata": {
        "colab": {
          "base_uri": "https://localhost:8080/",
          "height": 539
        },
        "id": "kOtlBLyqMG8l",
        "outputId": "6b2e15ea-0ecf-47e3-c18c-547b04864a0e"
      },
      "execution_count": 15,
      "outputs": [
        {
          "output_type": "display_data",
          "data": {
            "text/plain": [
              "<Figure size 800x600 with 2 Axes>"
            ],
            "image/png": "[encoded data removed]"
          },
          "metadata": {}
        }
      ]
    },
    {
      "cell_type": "code",
      "source": [
        "# ==============================\n",
        "# Save Model\n",
        "# ==============================\n",
        "model_artifact = {\n",
        "    'model': tabpfn_binary,\n",
        "    'feature_columns': list(X_imputed.columns),\n",
        "    'imputer': imputer,\n",
        "    'is_binary': True,\n",
        "    'accuracy': accuracy_b,\n",
        "    'balanced_accuracy': balanced_acc_b\n",
        "}\n",
        "\n",
        "with open('tabpfn_binary_model.pkl', 'wb') as f:\n",
        "    pickle.dump(model_artifact, f)\n",
        "\n",
        "print(\"\\n✅ Model saved to 'tabpfn_binary_model.pkl'\")\n"
      ],
      "metadata": {
        "colab": {
          "base_uri": "https://localhost:8080/"
        },
        "id": "eNMssjlnMUSk",
        "outputId": "f9b23dd5-ba97-4e5d-9169-9387e1b120d5"
      },
      "execution_count": 16,
      "outputs": [
        {
          "output_type": "stream",
          "name": "stdout",
          "text": [
            "\n",
            "✅ Model saved to 'tabpfn_binary_model.pkl'\n"
          ]
        }
      ]
    },
    {
      "cell_type": "code",
      "source": [
        "# ==============================\n",
        "# Final Summary\n",
        "# ==============================\n",
        "summary = f\"\"\"\n",
        "TESS TOI Classification Results:\n",
        "- Device: {device}\n",
        "- Samples: {len(X_imputed)}\n",
        "- Features: {len(features_to_use)}\n",
        "- Planet fraction: {y_binary.mean():.1%}\n",
        "- Binary Accuracy: {accuracy_b:.1%}\n",
        "- Top feature: {feat_imp_df.iloc[0]['feature']}\n",
        "\"\"\"\n",
        "print(\"\\n\" + \"=\"*50)\n",
        "print(\"SUMMARY\")\n",
        "print(\"=\"*50)\n",
        "print(summary)"
      ],
      "metadata": {
        "colab": {
          "base_uri": "https://localhost:8080/"
        },
        "id": "kSP6N1D1NEdk",
        "outputId": "e0c1f078-9bce-478d-abff-dc98d118fb55"
      },
      "execution_count": 17,
      "outputs": [
        {
          "output_type": "stream",
          "name": "stdout",
          "text": [
            "\n",
            "==================================================\n",
            "SUMMARY\n",
            "==================================================\n",
            "\n",
            "TESS TOI Classification Results:\n",
            "- Device: cuda\n",
            "- Samples: 7699\n",
            "- Features: 6\n",
            "- Planet fraction: 83.2%\n",
            "- Binary Accuracy: 84.9%\n",
            "- Top feature: pl_eqt\n",
            "\n"
          ]
        }
      ]
    },
    {
      "cell_type": "code",
      "source": [],
      "metadata": {
        "id": "KeXQwtLsOdJ3"
      },
      "execution_count": null,
      "outputs": []
    }
  ]
}