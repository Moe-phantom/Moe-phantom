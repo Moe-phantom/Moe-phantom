{
  "nbformat": 4,
  "nbformat_minor": 0,
  "metadata": {
    "colab": {
      "provenance": [],
      "authorship_tag": "ABX9TyM4va8n94m1OQwYJ2fn4WGh",
      "include_colab_link": true
    },
    "kernelspec": {
      "name": "python3",
      "display_name": "Python 3"
    },
    "language_info": {
      "name": "python"
    }
  },
  "cells": [
    {
      "cell_type": "markdown",
      "metadata": {
        "id": "view-in-github",
        "colab_type": "text"
      },
      "source": [
        "<a href=\"https://colab.research.google.com/github/Moe-phantom/Moe-phantom/blob/main/educational.ipynb\" target=\"_parent\"><img src=\"https://colab.research.google.com/assets/colab-badge.svg\" alt=\"Open In Colab\"/></a>"
      ]
    },
    {
      "cell_type": "code",
      "execution_count": 1,
      "metadata": {
        "id": "vh_sm5ztn2QG"
      },
      "outputs": [],
      "source": [
        "import torch\n",
        "import torch.nn as nn\n",
        "import torch.optim as optim\n",
        "from torch.utils.data import Dataset, DataLoader"
      ]
    },
    {
      "cell_type": "code",
      "source": [
        "class NumberDataset(Dataset):\n",
        "  def __init__(self, data_range=(1,10)):\n",
        "    self.numbers = list(range(data_range[0], data_range[1]))\n",
        "  def __getitem__(self, index):\n",
        "    number1 = float(self.numbers[index // len(self.numbers)])\n",
        "    number2 = float(self.numbers[index % len(self.numbers)])\n",
        "    return torch.tensor([number1,number2]), torch.tensor([number1+number2])\n",
        "  def __len__(self):\n",
        "    return len(self.numbers)**2\n",
        "dataset = NumberDataset(data_range=(1,89))\n",
        "for i in range(10):\n",
        "  print(dataset[i])"
      ],
      "metadata": {
        "colab": {
          "base_uri": "https://localhost:8080/"
        },
        "id": "KeoJeYvsoYrS",
        "outputId": "6f2007f0-c9a9-4ab2-875b-3bfd9e638859"
      },
      "execution_count": 8,
      "outputs": [
        {
          "output_type": "stream",
          "name": "stdout",
          "text": [
            "(tensor([1., 1.]), tensor([2.]))\n",
            "(tensor([1., 2.]), tensor([3.]))\n",
            "(tensor([1., 3.]), tensor([4.]))\n",
            "(tensor([1., 4.]), tensor([5.]))\n",
            "(tensor([1., 5.]), tensor([6.]))\n",
            "(tensor([1., 6.]), tensor([7.]))\n",
            "(tensor([1., 7.]), tensor([8.]))\n",
            "(tensor([1., 8.]), tensor([9.]))\n",
            "(tensor([1., 9.]), tensor([10.]))\n",
            "(tensor([ 1., 10.]), tensor([11.]))\n"
          ]
        }
      ]
    },
    {
      "cell_type": "code",
      "source": [],
      "metadata": {
        "id": "Te1wWs5wtw7Q"
      },
      "execution_count": null,
      "outputs": []
    }
  ]
}